{
 "cells": [
  {
   "cell_type": "markdown",
   "metadata": {},
   "source": [
    "# Queue_2\n",
    "\n",
    "- BFS\n",
    "\n",
    "- BFS 예제"
   ]
  },
  {
   "cell_type": "markdown",
   "metadata": {},
   "source": [
    "## BFS(너비 우선 탐색)\n",
    "\n",
    "- 방문했던 정점에 인접한 정점들을 차례로 방문하는 방식\n",
    "\n",
    "- 인접한 정점들에 대해 탐색을 한 후, 차례로 다시 너비우선탐색을 진행해야 하므로, 선입선출 형태의 자료구조인 큐를 활용한다.\n",
    "\n",
    "<br>\n",
    "\n",
    "```python\n",
    "def BFS(G, V): # 그래프 : G, 탐색 시작점 : V\n",
    "    visited = [False] * (n + 1)     # n : 정점의 개수\n",
    "    queue = []                      # 큐 생성\n",
    "    queue.append(v)                 # 시작점 큐에 삽입\n",
    "    while queue:                    # 큐가 비어있지 않은 경우\n",
    "        t = queue.pop(0)            # 큐의 첫번째 원소 반환\n",
    "        if not visited[t]:          # 방문되지 않은 곳이라면\n",
    "            visited[t] = True       # 방문했다고 표시\n",
    "            visit(t)                # 방문한 정점 t에서 할 일\n",
    "            for i in G[t]:          # t와 연결된 모든 정점에 대해\n",
    "                if not visited[i]   # 방문하지 않은 곳이라면\n",
    "                    queue.append(i) # enqueue\n",
    "\n",
    "```\n",
    "\n",
    "!! 그림 따라가보기\n",
    "\n",
    "<br>\n",
    "\n",
    "### 개선된 BFS\n",
    "\n",
    "- 어떤 노드에 의해서 오게 된건지 표시를 해주는 과정을 추가\n",
    "\n",
    "- 이전에 출발한 노드의 visited 값에 + 1을 해준다.\n",
    "\n",
    "== 출발 노드에서 가장 멀리 떨어진 노드를 찾는 등의 문제에서 사용할 수 있다!!\n",
    "\n",
    "<br>\n",
    "\n",
    "```python\n",
    "def BFS(G, V, n):\n",
    "    visited = [0] * (n + 1)\n",
    "    queue = []\n",
    "    queue.append(v)\n",
    "    visited[v] = 1              # 시작지점의 레벨을 1로 설정\n",
    "    while queue:\n",
    "        t = queue.pop(0)\n",
    "        visit(t)                # 방문한 정점 t에서 할 일\n",
    "        for w in G[t]:          # 현재 정점에서 갈 수 있는 정점들 확인\n",
    "            if not visited[i]:  \n",
    "                queue.append(i)\n",
    "                visited[i] = visited[t] + 1     # 시작 정점부터 현재 정점의 방문거리(레벨) + 1\n",
    "\n",
    "```"
   ]
  }
 ],
 "metadata": {
  "language_info": {
   "name": "python"
  },
  "orig_nbformat": 4
 },
 "nbformat": 4,
 "nbformat_minor": 2
}
