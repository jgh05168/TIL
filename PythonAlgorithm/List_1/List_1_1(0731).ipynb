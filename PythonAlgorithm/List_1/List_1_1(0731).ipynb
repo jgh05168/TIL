{
 "cells": [
  {
   "cell_type": "markdown",
   "metadata": {},
   "source": [
    "# Algorithm Problem Solving 1\n",
    "\n",
    "- 알고리즘\n",
    "\n",
    "- 배열\n",
    "\n",
    "- 버블 정렬\n",
    "\n",
    "- 카운팅 정렬\n",
    "\n",
    "- 완전 검색 \n",
    "\n",
    "- 그리디"
   ]
  },
  {
   "cell_type": "markdown",
   "metadata": {},
   "source": [
    "## 알고리즘\n",
    "\n",
    "알고리즘이란 ?\n",
    "\n",
    "    - 문제를 해결하기 위한 절차나 방법\n",
    "\n",
    "    1. 정확성 : 얼마나 정확하게 동작하는가\n",
    "\n",
    "    2. 작업량 : 얼마나 적은 연산으로 원하는 결과를 얻어내는가\n",
    "\n",
    "    3. 메모리 사용량 : 얼마나 적은 메모리를 사용하는가\n",
    "\n",
    "    4. 단순성 : 얼마나 단순한가\n",
    "\n",
    "    5. 최적성 : 더이상 개선할 여지없이 최적화되었는가\n",
    "\n",
    "\n",
    "<br>\n",
    "\n",
    "시간복잡도 : 실제 걸리는 시간을 측정 -> 실행되는 명령문의 개수를 계산\n",
    "\n",
    "Big O notation - 시간복잡도 함수 중에서 가장 큰 영향력을 주는 n에 대한 항만을 표시\n",
    "\n",
    "    - 계수는 생략함\n",
    "\n",
    "    - ex) O(3n + 2) = O(3n) = O(n)"
   ]
  },
  {
   "cell_type": "markdown",
   "metadata": {},
   "source": [
    "## 배열\n",
    "\n",
    "배열이란 ? \n",
    "\n",
    "    - 일정한 자료형의 변수들을 하나의 이름으로 열거하여 사용하는 자료구조\n",
    "\n",
    "    - Arr = list(), a = [], Arr = [0] * 10 , ..."
   ]
  },
  {
   "attachments": {
    "image.png": {
     "image/png": "[encoded data removed]"
    }
   },
   "cell_type": "markdown",
   "metadata": {},
   "source": [
    "## 정렬 \n",
    "\n",
    "정렬이란 ? \n",
    "\n",
    "    - 2개 이상의 자료를 특정 기준에 의해 작은 값부터 큰 값까지 정렬하는 과정\n",
    "\n",
    "    - 버블정렬, 카운팅정렬, 선택정렬, 퀵정렬, 삽입정렬, 병합정렬\n",
    "\n",
    "<br>\n",
    "\n",
    "### 버블정렬 \n",
    "\n",
    "    - 인접한 두 개의 원소를 비교하며 자리를 계속 교환하는 방식\n",
    "    \n",
    "    1. 첫번쨰 원소부터 인접한 원소끼리 계속 자리를 교환하며 맨 마지막까지 이동\n",
    "\n",
    "    2. 한 단계가 끝나면 가장 큰 원소가 마지막 자리로 정렬됌\n",
    "\n",
    "![image.png](attachment:image.png)\n",
    "\n",
    "```python\n",
    "BubbleSort(a, N)\n",
    "    for i : N - 1 -> 1\n",
    "        for j : - -> i - 1\n",
    "            if a[j] > a[j + 1]\n",
    "                a[j] <-> a[j + 1]\n",
    "\n",
    "```"
   ]
  },
  {
   "cell_type": "code",
   "execution_count": null,
   "metadata": {},
   "outputs": [],
   "source": [
    "# 버블정렬\n",
    "\n",
    "def BubbleSort(a, N):\n",
    "    for i in range(N - 1, 0, -1):\n",
    "        for j in range(0, i):\n",
    "            if a[j] > a[j + 1]:\n",
    "                a[j], a[j + 1] = a[j + 1], a[j]"
   ]
  }
 ],
 "metadata": {
  "language_info": {
   "name": "python"
  },
  "orig_nbformat": 4
 },
 "nbformat": 4,
 "nbformat_minor": 2
}
