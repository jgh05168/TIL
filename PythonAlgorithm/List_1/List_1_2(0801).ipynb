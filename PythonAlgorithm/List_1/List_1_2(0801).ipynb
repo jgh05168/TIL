{
 "cells": [
  {
   "cell_type": "markdown",
   "metadata": {},
   "source": [
    "# List 1_2\n",
    "\n",
    "## APS기본 - 2"
   ]
  },
  {
   "cell_type": "markdown",
   "metadata": {},
   "source": [
    "### 카운팅 정렬\n",
    "\n",
    "1. Data에서 각 항목들의 발생 횟수를 세고, 정수 항목들로 직접 인덱스 되는 카운트 배열(count)에 저장\n",
    "\n",
    "    !!! Data 내부에 가장 큰 정수값을 알아야 한다 --> count 배열의 크기를 결정\n",
    "\n",
    "    !!! count 배열의 크기와 Data 배열의 크기는 다르다.\n",
    "\n",
    "2. 정렬된 집합에서 각 항목의 앞에 위치할 항목의 개수를 반영하기 위해 count의 원소를 조정\n",
    "\n",
    "3. Data 배열의 값들을 뒤부터 하나하나 확인해가며 count 배열로 인덱스 정보를 본 뒤 새로운 배열에 순차적으로 저장\n",
    "\n",
    "4. 새로운 배열이 다 차게 되면 동작 종료\n"
   ]
  },
  {
   "cell_type": "code",
   "execution_count": null,
   "metadata": {},
   "outputs": [],
   "source": [
    "def counting_sort(DATA, TEMP, k):     \n",
    "    # DATA = [] : 입력 배열\n",
    "    # TEMP = [] : 정렬된 배열\n",
    "    # k : 정렬 대상 중 최댓값(count 배열의 크기)\n",
    "    # COUNTS = [] : 카운트 배열\n",
    "\n",
    "    COUNTS = [0] * (k + 1)          # index는 0부터 k-1의 값을 갖기 때문에 k+1을 해준다.\n",
    "\n",
    "    # 1. 각 원소의 등장 횟수를 세준다.\n",
    "    for i in range(0, len(DATA)):\n",
    "        COUNTS[DATA[i]] += 1\n",
    "\n",
    "    # 2. 각 원소의 등장 횟수를 계산해서 각 원소가 들어갈 자리의 위치를 구해준다.\n",
    "    for i in range(1, len(COUNTS)):\n",
    "        COUNTS[i] += COUNTS[i - 1]      # i는 i보다 작은 수가 몇 개 있는지를 알면 그 뒤부터 나온다는 것을 알기 떄문\n",
    "\n",
    "    for i in range(len(TEMP) - 1, -1, -1):      # 뒤에서부터 값을 가져오는 이유 : 안정 정렬을 위해서\n",
    "    # 안정 정렬 : 정렬 전 동일한 키 값의 요소 순서가 정렬 후 유지가 되는 정렬 알고리즘\n",
    "        COUNTS[DATA[i]] -= 1\n",
    "        TEMP[COUNTS[DATA[i]]] = DATA[i]"
   ]
  },
  {
   "cell_type": "code",
   "execution_count": null,
   "metadata": {},
   "outputs": [],
   "source": [
    "def counting_sort(DATA, TEMP, k):     \n",
    "    # DATA = [] : 입력 배열\n",
    "    # TEMP = [] : 정렬된 배열\n",
    "    # k : 정렬 대상 중 최댓값(count 배열의 크기)\n",
    "    # COUNTS = [] : 카운트 배열\n",
    "\n",
    "    COUNTS = [0] * (k + 1)          # index는 0부터 k-1의 값을 갖기 때문에 k+1을 해준다.\n",
    "\n",
    "    # 1. 각 원소의 등장 횟수를 세준다.\n",
    "    for i in range(0, len(DATA)):\n",
    "        COUNTS[DATA[i]] += 1\n",
    "\n",
    "    # 2. 각 원소의 등장 횟수를 계산해서 각 원소가 들어갈 자리의 위치를 구해준다.\n",
    "    for i in range(1, len(COUNTS)):\n",
    "        COUNTS[i] += COUNTS[i - 1]      # i는 i보다 작은 수가 몇 개 있는지를 알면 그 뒤부터 나온다는 것을 알기 떄문\n",
    "\n",
    "    for i in range(len(TEMP) - 1, -1, -1):      # 뒤에서부터 값을 가져오는 이유 : 안정 정렬을 위해서\n",
    "    # 안정 정렬 : 정렬 전 동일한 키 값의 요소 순서가 정렬 후 유지가 되는 정렬 알고리즘\n",
    "        COUNTS[DATA[i]] -= 1\n",
    "        TEMP[COUNTS[DATA[i]]] = DATA[i]"
   ]
  },
  {
   "cell_type": "markdown",
   "metadata": {},
   "source": [
    "-- Worst Time Complexity --\n",
    "\n",
    "버블정렬 : O(n2)        - 코딩이 가장 손쉬움\n",
    "\n",
    "카운팅 정렬 : O(n + k)  - n이 비교적 작을 때만 가능\n",
    "\n",
    "선택 정렬 : O(n2)       - 교환의 횟수가 버블, 삽입정렬보다 작다\n",
    "\n",
    "퀵정렬 : O(n2)          - 최악의 경우 O(n2)이지만 평균적으로 가장 빠름\n",
    "\n",
    "삽입정렬 : O(n2)        - n의 개수가 작을 때 효과적\n",
    "\n",
    "병합정렬 : O(nlogn)     - 연결리스트의 경우"
   ]
  },
  {
   "cell_type": "markdown",
   "metadata": {},
   "source": [
    "### 완전 검색\n",
    "\n",
    "- 모든 경우의 수를 나열해보고 확인하는 기법\n",
    "\n",
    "- Brute - force / generate-and test\n",
    "\n",
    "- 모든 경우의 수를 테스트한 후 최종 해법을 도출\n",
    "\n",
    "- 경우의 수가 작을 때 유용함\n",
    "\n",
    "<br>\n",
    "\n",
    "--> 수행속도는 느리지만 해답을 찾아내지 못할 확률이 작다.\n",
    "\n",
    "--> 코테 시 우선 완전 검색으로 접근하여 해답을 도출한 후, 성능 개선을 위해 다른 알고리즘을 사용하고 해답을 확인하는 방법이 좋다.\n",
    "\n"
   ]
  },
  {
   "cell_type": "markdown",
   "metadata": {},
   "source": [
    "### 순열\n",
    "\n",
    "- 서로 다른 것들 중 몇 개를 뽑아서 한 줄로 나열하는 것\n",
    "\n",
    "- nPr\n",
    "\n",
    "- ex) Factorial\n",
    "\n",
    "<br>\n",
    "\n",
    "```python\n",
    "# 단순한 순열\n",
    "# {1, 2, 3}\n",
    "\n",
    "for i1 in range(1, 4):\n",
    "    for i2 in range(1, 4):\n",
    "        if i2 != i1:\n",
    "            for i3 in range(1, 4):\n",
    "                if i3 != i1 and i3 != i2:\n",
    "                    print(i1, i2, i3)\n",
    "```\n",
    "\n"
   ]
  },
  {
   "cell_type": "markdown",
   "metadata": {},
   "source": [
    "### Greedy Algoritnm(그리디 알고리즘)\n",
    "\n",
    "- 최적해를 구하는 데 사용되는 근시안적인 방법\n",
    "\n",
    "- 여러 경우 중 하나를 결정할 때마다 그 순간이 최적이라고 생각되는 것을 선택해 나가는 방식\n",
    "\n",
    "- 일반적인 생각을 검증없이 구현하면 Greedy\n",
    "\n",
    "<br>\n",
    "\n",
    "1. 해 선택 : 현재 상태에서 부분 문제의 최적 해를 구한 뒤, 이를 부분해집합(Solution Set)에 추가\n",
    "\n",
    "2. 실행 가능성 검사 : 새로운 부분해 집합이 실행 가능한 지를 확인.\n",
    "\n",
    "    - 문제의 제약 조건을 위반하지 않는지를 검사\n",
    "\n",
    "3. 해 검사 : 새로운 부분해 집합이 문제의 해가 되는지를 확인\n",
    "\n",
    "    - 아직 전체 문제의 해가 완성되지 않았다면 1)의 해 선택부터 다시 실행\n",
    "\n",
    "    "
   ]
  },
  {
   "cell_type": "code",
   "execution_count": 2,
   "metadata": {},
   "outputs": [
    {
     "name": "stdout",
     "output_type": "stream",
     "text": [
      "Bably Gin\n"
     ]
    }
   ],
   "source": [
    "# ex)\n",
    "\n",
    "num = 456789        # baby Gin 확인할 수\n",
    "\n",
    "c = [0] * 12        # index 10 뒷 자리도 확인을 해야하기 때문에 10 + 2 의 인덱스를 사용 --> IndexError (List out of range) 방지\n",
    "\n",
    "# 각 자릿수를 알아보는 방법 --> 1의 자리수부터 알아보자.\n",
    "for i in range(len(str(num))):\n",
    "    c[num % 10] += 1\n",
    "    num //= 10\n",
    "\n",
    "i = 0\n",
    "tri, run = 0, 0\n",
    "\n",
    "while i < 10:\n",
    "    # check triplit\n",
    "    if c[i] >= 3:\n",
    "        c[i] -= 3\n",
    "        tri += 1\n",
    "        continue\n",
    "    # check run\n",
    "    if c[i] >= 1 and c[i + 1] >= 1 and c[i + 2] >= 1:\n",
    "        c[i] -= 1\n",
    "        c[i + 1] -= 1\n",
    "        c[i - 2] -= 1\n",
    "        run += 1\n",
    "        continue\n",
    "    \n",
    "    i += 1\n",
    "\n",
    "if run + tri == 2: print(\"Bably Gin\")\n",
    "else: print(\"Lose\")"
   ]
  }
 ],
 "metadata": {
  "kernelspec": {
   "display_name": "Python 3",
   "language": "python",
   "name": "python3"
  },
  "language_info": {
   "codemirror_mode": {
    "name": "ipython",
    "version": 3
   },
   "file_extension": ".py",
   "mimetype": "text/x-python",
   "name": "python",
   "nbconvert_exporter": "python",
   "pygments_lexer": "ipython3",
   "version": "3.9.13"
  },
  "orig_nbformat": 4
 },
 "nbformat": 4,
 "nbformat_minor": 2
}
