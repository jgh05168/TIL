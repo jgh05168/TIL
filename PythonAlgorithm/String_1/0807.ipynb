{
 "cells": [
  {
   "cell_type": "markdown",
   "metadata": {},
   "source": [
    "# String\n",
    "\n",
    "- 문자열\n",
    "\n"
   ]
  },
  {
   "cell_type": "markdown",
   "metadata": {},
   "source": [
    "## 문자열\n",
    "\n"
   ]
  },
  {
   "cell_type": "code",
   "execution_count": null,
   "metadata": {},
   "outputs": [],
   "source": [
    "# 문자열 뒤집기\n",
    "# 처음과 끝을 뒤집는 방법\n",
    "\n",
    "s = 'Reverse'\n",
    "s_lst = list(s)\n",
    "N = len(s)\n",
    "\n",
    "for i in range(N // 2):\n",
    "    s_lst[i], s_lst[N - 1 - i] = s_lst[N - 1 - i], s_lst[i]\n",
    "\n",
    "print(s)\n",
    "print(''.join(s_lst))       # ''.join(list) :문자열 이어서  출력"
   ]
  },
  {
   "cell_type": "code",
   "execution_count": null,
   "metadata": {},
   "outputs": [],
   "source": [
    "# 단순히 reverse() 사용하기\n",
    "\n",
    "s = 'Reverse'\n",
    "s = list(s)\n",
    "s.reverse()\n",
    "print(''.join(s))"
   ]
  },
  {
   "cell_type": "code",
   "execution_count": null,
   "metadata": {},
   "outputs": [],
   "source": [
    "# 문자열 비교\n",
    "\n",
    "s1 = 'abc'\n",
    "s2 = 'abc'\n",
    "s3 = 'def'\n",
    "s4 = s1[:2] + 'c'       # 'ab' + 'c'\n",
    "print(s1 is s2)\n",
    "print(s2 is s3)\n",
    "print(s1 == s4)"
   ]
  },
  {
   "cell_type": "code",
   "execution_count": null,
   "metadata": {},
   "outputs": [],
   "source": [
    "# str 함수를 사용하지 않고, itoa() 구현하기\n",
    "\n",
    "def itoa(a):\n",
    "    s = ''\n",
    "    while a > 0:\n",
    "        s += chr(ord('0') + a % 10)   # 1의 자리 숫자의 ASCII \n",
    "        a = a // 10\n",
    "\n",
    "    return s[::-1] # 문자열 뒤집기\n",
    "\n",
    "\n",
    "a = 123\n",
    "print(itoa(a))"
   ]
  }
 ],
 "metadata": {
  "language_info": {
   "name": "python"
  },
  "orig_nbformat": 4
 },
 "nbformat": 4,
 "nbformat_minor": 2
}
