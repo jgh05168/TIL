{
 "cells": [
  {
   "cell_type": "code",
   "execution_count": 11,
   "metadata": {},
   "outputs": [
    {
     "name": "stdout",
     "output_type": "stream",
     "text": [
      "[1, 1, 1, 1, 0, 0, 0, 0, 0, 0]\n",
      "[1, 1, 0, 0, 0, 0, 1, 0, 0, 0]\n",
      "[1, 0, 1, 0, 0, 1, 0, 0, 0, 0]\n",
      "[1, 0, 0, 1, 1, 0, 0, 0, 0, 0]\n",
      "[1, 0, 0, 0, 0, 0, 0, 0, 1, 0]\n",
      "[0, 1, 1, 0, 1, 0, 0, 0, 0, 0]\n",
      "[0, 1, 0, 0, 0, 0, 0, 1, 0, 0]\n",
      "[0, 0, 1, 0, 0, 0, 1, 0, 0, 0]\n",
      "[0, 0, 0, 1, 0, 1, 0, 0, 0, 0]\n",
      "[0, 0, 0, 0, 0, 0, 0, 0, 0, 1]\n",
      "common recursive func : 2047\n"
     ]
    }
   ],
   "source": [
    "def f(i, N, s, t):\n",
    "    global cnt\n",
    "    cnt += 1\n",
    "    if i == N:\n",
    "        if s == 10:\n",
    "            print(bit)\n",
    "        return\n",
    "    else:\n",
    "        bit[i] = 1      # 부분집합에 A[i] 포함\n",
    "        f(i + 1, N, s + A[i], t)\n",
    "        bit[i] = 0      # 부분집합에 A[i] 빠짐\n",
    "        f(i + 1, N, s, t)  # 이전까지 한 과정과 같음\n",
    "\n",
    "# 1부터 10까지 원소인 집합, 부분집합의 합이 10인 경우는?\n",
    "cnt = 0\n",
    "N = 10\n",
    "A = [1, 2, 3, 4, 5, 6, 7, 8, 9, 10]\n",
    "bit = [0] * N\n",
    "f(0, N, 0, N)\n",
    "print(f'common recursive func : {cnt}')"
   ]
  },
  {
   "cell_type": "code",
   "execution_count": 1,
   "metadata": {},
   "outputs": [
    {
     "name": "stdout",
     "output_type": "stream",
     "text": [
      "[1, 1, 1, 1, 0, 0, 0, 0, 0, 0]\n",
      "[1, 1, 0, 0, 0, 0, 1, 0, 0, 0]\n",
      "[1, 0, 1, 0, 0, 1, 0, 0, 0, 0]\n",
      "[1, 0, 0, 1, 1, 0, 0, 0, 0, 0]\n",
      "[1, 0, 0, 0, 0, 0, 0, 0, 1, 0]\n",
      "[0, 1, 1, 0, 1, 0, 0, 0, 0, 0]\n",
      "[0, 1, 0, 0, 0, 0, 0, 1, 0, 0]\n",
      "[0, 0, 1, 0, 0, 0, 1, 0, 0, 0]\n",
      "[0, 0, 0, 1, 0, 1, 0, 0, 0, 0]\n",
      "[0, 0, 0, 0, 0, 0, 0, 0, 0, 1]\n",
      "349\n",
      "worst case : 2047\n"
     ]
    }
   ],
   "source": [
    "'''\n",
    "백트래킹\n",
    "s : i - 1 원소까지 부분집합의 합(포함된 원소의 합)\n",
    "t = 찾으려는 합\n",
    "'''\n",
    "\n",
    "def f(i, N, s, t):\n",
    "    global cnt\n",
    "    cnt += 1\n",
    "    if s == t:          # i - 1 원소까지의 합이 찾는 값인 경우\n",
    "        if s == 10:\n",
    "            print(bit)\n",
    "        return\n",
    "    # 추가 고려사항\n",
    "    elif i == N:        # 남은 원소가 없는 경우(모든 원소에 대한 고려가 끝난 경우)\n",
    "        return\n",
    "    elif s > t:         # 남은 원소를 고려할 필요가 없는 경우 \n",
    "        return\n",
    "    else:\n",
    "        bit[i] = 1      # 부분집합에 A[i] 포함\n",
    "        f(i + 1, N, s + A[i], t)\n",
    "        bit[i] = 0      # 부분집합에 A[i] 빠짐\n",
    "        f(i + 1, N, s, t)  # 이전까지 한 과정과 같음\n",
    "\n",
    "# 1부터 10까지 원소인 집합, 부분집합의 합이 10인 경우는?\n",
    "cnt = 0\n",
    "N = 10\n",
    "A = [1, 2, 3, 4, 5, 6, 7, 8, 9, 10]\n",
    "bit = [0] * N\n",
    "f(0, N, 0, 10)\n",
    "print(cnt)\n",
    "\n",
    "# 최악의 경우 : 모든 경우를 확인할 때\n",
    "cnt = 0\n",
    "bit = [0] * N\n",
    "f(0, N, 0, 55)\n",
    "print(f'worst case : {cnt}')"
   ]
  }
 ],
 "metadata": {
  "kernelspec": {
   "display_name": "Python 3",
   "language": "python",
   "name": "python3"
  },
  "language_info": {
   "codemirror_mode": {
    "name": "ipython",
    "version": 3
   },
   "file_extension": ".py",
   "mimetype": "text/x-python",
   "name": "python",
   "nbconvert_exporter": "python",
   "pygments_lexer": "ipython3",
   "version": "3.9.13"
  },
  "orig_nbformat": 4
 },
 "nbformat": 4,
 "nbformat_minor": 2
}
