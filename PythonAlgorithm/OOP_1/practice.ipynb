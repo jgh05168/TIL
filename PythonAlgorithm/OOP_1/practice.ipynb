{
 "cells": [
  {
   "cell_type": "code",
   "execution_count": 16,
   "metadata": {},
   "outputs": [
    {
     "name": "stdout",
     "output_type": "stream",
     "text": [
      "vs code\n",
      "red\n",
      "green red\n",
      "안녕하세요, vs님.\n"
     ]
    },
    {
     "data": {
      "text/plain": [
       "'안녕하세요, code님.'"
      ]
     },
     "execution_count": 16,
     "metadata": {},
     "output_type": "execute_result"
    }
   ],
   "source": [
    "class Person:\n",
    "    blood_color = 'red'\n",
    "\n",
    "\n",
    "    # 생성자 함수\n",
    "    def __init__(self, name):\n",
    "        self.name = name\n",
    "\n",
    "    \"\"\"\n",
    "    생성자 함수를 쓰지 않았을 경우, \n",
    "\n",
    "    def __init__(self):\n",
    "        pass\n",
    "    \"\"\"\n",
    "\n",
    "    def hello(self):\n",
    "        return f'안녕하세요, {self.name}님.'\n",
    "\n",
    "p1 = Person('vs')\n",
    "p2 = Person('code')\n",
    "print(p1.name, p2.name)\n",
    "\n",
    "\n",
    "p1.blood_color = 'green'\n",
    "print(Person.blood_color)\n",
    "print(p1.blood_color, p2.blood_color)\n",
    "\n",
    "print(p1.hello())\n",
    "p2.hello()"
   ]
  },
  {
   "cell_type": "code",
   "execution_count": 6,
   "metadata": {},
   "outputs": [
    {
     "name": "stdout",
     "output_type": "stream",
     "text": [
      "True\n",
      "True\n"
     ]
    }
   ],
   "source": [
    "class Shape:\n",
    "    def __init__(self, w, h):\n",
    "        self.w = w\n",
    "        self.h = h\n",
    "\n",
    "    # 객체 비교 매직메서드\n",
    "    def __gt__(self, other):        \n",
    "        return self.w * self.h > other.w * other.h\n",
    "    \n",
    "    def __eq__(self, other):\n",
    "        return self.w * self.h == other.w * other.h\n",
    "    \n",
    "s1 = Shape(3, 4)\n",
    "s2 = Shape(5, 6)\n",
    "\n",
    "print(s2 > s1)      # > or <  만 __gt__가 인식\n",
    "print(s1 != s2)     # == or !=  만 __eq__가 인식"
   ]
  }
 ],
 "metadata": {
  "kernelspec": {
   "display_name": "Python 3",
   "language": "python",
   "name": "python3"
  },
  "language_info": {
   "codemirror_mode": {
    "name": "ipython",
    "version": 3
   },
   "file_extension": ".py",
   "mimetype": "text/x-python",
   "name": "python",
   "nbconvert_exporter": "python",
   "pygments_lexer": "ipython3",
   "version": "3.9.13"
  },
  "orig_nbformat": 4
 },
 "nbformat": 4,
 "nbformat_minor": 2
}
