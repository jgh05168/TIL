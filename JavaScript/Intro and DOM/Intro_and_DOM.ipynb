{
 "cells": [
  {
   "cell_type": "markdown",
   "metadata": {},
   "source": [
    "# Intro of JS\n",
    "\n",
    "- History of JS\n",
    "\n",
    "- DOM\n",
    "\n",
    "- DOM 선택\n",
    "\n",
    "- DOM 조작\n"
   ]
  }
 ],
 "metadata": {
  "language_info": {
   "name": "python"
  }
 },
 "nbformat": 4,
 "nbformat_minor": 2
}
