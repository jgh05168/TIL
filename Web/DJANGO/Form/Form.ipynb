{
 "cells": [
  {
   "cell_type": "markdown",
   "metadata": {},
   "source": [
    "# Form\n",
    "\n",
    "- Django Form\n",
    "\n",
    "- Django ModelForm\n",
    "\n",
    "- Handling HTTP requests"
   ]
  },
  {
   "cell_type": "markdown",
   "metadata": {},
   "source": [
    "HTML 'form' : 지금까지 사용자로부터 데이터를 받기위해 활용한 방법. 그러나 비정상적 혹은 악의적인 요청을 필터링 할 수 없음\n",
    "\n",
    "-> 유효한 데이터인지 확인이 필요하다.\n",
    "\n",
    "## Django Form\n",
    "\n",
    ": 사용자 입력 데이터를 수집하고, 처리 및 유효성 검사를 수행하기 위한 도구\n",
    "\n",
    "-> 유효성 검사를 단순화하고 자동화 할 수 있는 기능을 제공\n",
    "\n",
    "- HTML에서 정보를 label, input 등을 django가 제공해준다.\n",
    "\n",
    "### Widgets \n",
    "\n",
    ": HTML 'input' element의 표현을 담당(단순히 input 요소의 속성 및 출력되는 부분을 변경)\n",
    "\n",
    "<br>\n",
    "\n",
    "## Django ModelForm\n",
    "\n",
    "|Form|ModelForm|\n",
    "|---|---|\n",
    "|사용자 입력 데이터를 DB에 저장하지 않을 때|사용자 입력 데이터를 DB에 저장해야 할 때|\n",
    "|ex) 로그인|ex) 게시글, 회원가입|\n",
    "\n",
    ": Model과 연결된 Form을 자동으로 생성해주는 기능을 제공\n",
    "\n",
    "-> Form + Model\n",
    "\n",
    "### Meta class\n",
    "\n",
    ": ModelForm의 정보를 작성하는 곳\n",
    "\n",
    "- 'fields' 및 'exclude' 속성\n",
    "\n",
    "    - exclude 속성을 사용하여 모델에서 포함하지 않을 필드를 지정할 수도 있음\n",
    "\n",
    "### is_valid()\n",
    "\n",
    ": 여러 유효성 검사를 실행하고, 데이터가 유효한지 여부를 Boolean으로 반환\n",
    "\n",
    "- 빈 값 허용 x\n",
    "\n",
    "- max_length\n",
    "\n",
    "<br>\n",
    "\n",
    "## Handling HTTP requests\n",
    "\n",
    "new & create view 함수 간 공통점과 차이점\n",
    "\n",
    "|공통점|차이점|\n",
    "|:---:|:---:|\n",
    "|데이터 생성을 구현하기 위함|new는 GET method 요청만을, create는 POST method 요청만을 처리|\n",
    "\n",
    "![Alt text](image.png)"
   ]
  }
 ],
 "metadata": {
  "language_info": {
   "name": "python"
  },
  "orig_nbformat": 4
 },
 "nbformat": 4,
 "nbformat_minor": 2
}
