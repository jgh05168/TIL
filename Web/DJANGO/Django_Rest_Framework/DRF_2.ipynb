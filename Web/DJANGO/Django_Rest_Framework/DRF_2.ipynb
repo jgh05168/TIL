{
 "cells": [
  {
   "cell_type": "markdown",
   "metadata": {},
   "source": [
    "# Django REST framework2\n",
    "\n",
    "- DRF\n"
   ]
  }
 ],
 "metadata": {
  "language_info": {
   "name": "python"
  }
 },
 "nbformat": 4,
 "nbformat_minor": 2
}
